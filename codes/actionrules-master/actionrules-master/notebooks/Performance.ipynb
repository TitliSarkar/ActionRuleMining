{
 "cells": [
  {
   "cell_type": "markdown",
   "metadata": {},
   "source": [
    "# Performance testing\n",
    "Import actionRulesDiscovery."
   ]
  },
  {
   "cell_type": "code",
   "execution_count": 1,
   "metadata": {},
   "outputs": [],
   "source": [
    "import sys\n",
    "sys.path.append(\"..\")"
   ]
  },
  {
   "cell_type": "code",
   "execution_count": 2,
   "metadata": {},
   "outputs": [
    {
     "ename": "NameError",
     "evalue": "name 'actionRDiscovery' is not defined",
     "output_type": "error",
     "traceback": [
      "\u001b[1;31m---------------------------------------------------------------------------\u001b[0m",
      "\u001b[1;31mNameError\u001b[0m                                 Traceback (most recent call last)",
      "\u001b[1;32m<ipython-input-2-3ea616ff65fd>\u001b[0m in \u001b[0;36m<module>\u001b[1;34m\u001b[0m\n\u001b[0;32m      1\u001b[0m \u001b[1;32mfrom\u001b[0m \u001b[0mactionruless\u001b[0m\u001b[1;33m.\u001b[0m\u001b[0mactionRulesDiscovery\u001b[0m \u001b[1;32mimport\u001b[0m \u001b[0mActionRulesDiscovery\u001b[0m\u001b[1;33m\u001b[0m\u001b[1;33m\u001b[0m\u001b[0m\n\u001b[1;32m----> 2\u001b[1;33m \u001b[0mactionRDiscovery\u001b[0m\u001b[1;33m.\u001b[0m\u001b[0mread_csv\u001b[0m\u001b[1;33m(\u001b[0m\u001b[1;34m\"data/telco.csv\"\u001b[0m\u001b[1;33m,\u001b[0m \u001b[0msep\u001b[0m\u001b[1;33m=\u001b[0m\u001b[1;34m\";\"\u001b[0m\u001b[1;33m)\u001b[0m\u001b[1;33m\u001b[0m\u001b[1;33m\u001b[0m\u001b[0m\n\u001b[0m\u001b[0;32m      3\u001b[0m actionRDiscovery.fit(stable_attributes = [\"gender\", \"SeniorCitizen\", \"Partner\"],\n\u001b[0;32m      4\u001b[0m     flexible_attributes = [\"PhoneService\",\n\u001b[0;32m      5\u001b[0m     \u001b[1;34m\"InternetService\"\u001b[0m\u001b[1;33m,\u001b[0m\u001b[1;33m\u001b[0m\u001b[1;33m\u001b[0m\u001b[0m\n",
      "\u001b[1;31mNameError\u001b[0m: name 'actionRDiscovery' is not defined"
     ]
    }
   ],
   "source": [
    "from actionruless.actionRulesDiscovery import ActionRulesDiscovery\n",
    "actionRDiscovery = ActionRulesDiscovery()\n",
    "actionRDiscovery.read_csv(\"data/telco.csv\", sep=\";\")\n",
    "actionRDiscovery.fit(stable_attributes = [\"gender\", \"SeniorCitizen\", \"Partner\"],\n",
    "    flexible_attributes = [\"PhoneService\",\n",
    "    \"InternetService\",\n",
    "    \"OnlineSecurity\",\n",
    "    \"DeviceProtection\",\n",
    "    \"TechSupport\",\n",
    "    \"StreamingTV\",\n",
    "    ],\n",
    "    consequent = \"Churn\",\n",
    "    conf=90,\n",
    "    supp=6,\n",
    "    desired_classes = [\"No\"])"
   ]
  },
  {
   "cell_type": "markdown",
   "metadata": {},
   "source": [
    "A function that is used for fitting the model. It has parameters for minimal confidence, minimal support."
   ]
  },
  {
   "cell_type": "code",
   "execution_count": 24,
   "metadata": {},
   "outputs": [
    {
     "name": "stdout",
     "output_type": "stream",
     "text": [
      "__class__            The 1 class ActionRulesDiscovery is the main control class where the methods fit or\n",
      "__delattr__          Implement delattr(self, name).\n",
      "__dir__              Default dir() implementation.\n",
      "__eq__               Return self==value.\n",
      "__format__           Default object formatter.\n",
      "__ge__               Return self>=value.\n",
      "__getattribute__     Return getattr(self, name).\n",
      "__gt__               Return self>value.\n",
      "__hash__             Return hash(self).\n",
      "__init__             Initialise\n",
      "__init_subclass__    This method is called when a class is subclassed. The default implementation does nothing\n",
      "__le__               Return self<=value.\n",
      "__lt__               Return self<value.\n",
      "__ne__               Return self!=value.\n",
      "__new__              Create and return a new object. See help(type) for accurate signature.\n",
      "__reduce__           Helper for pickle.\n",
      "__reduce_ex__        Helper for pickle.\n",
      "__repr__             Return repr(self).\n",
      "__setattr__          Implement setattr(self, name, value).\n",
      "__sizeof__           Size of object in memory, in bytes.\n",
      "__str__              Return str(self).\n",
      "__subclasshook__     Abstract classes can override this to customize issubclass(). This is invoked early on by\n",
      "_check_columns       Checks if inserted data is valid (columns exist, rows exist). Parameters\n",
      "_reduce_table_source Get data frame limited by concrete classification rule. Parameters -----\n",
      "fit                  Train the model from transaction data. Define antecedent and consequent.\n",
      "fit_classification_rules Train the model from classification rules. Define antecedent and consequent.\n",
      "get_action_rules     Get machine representations of action rules. The output is a list of action\n",
      "get_action_rules_representation Get math representation of action rules. Returns ------- list\n",
      "get_pretty_action_rules Get human-readable representations of action rules. Returns -------\n",
      "get_source_data_for_ar Get data frame with values which the action rule is based on. Yellow background\n",
      "load_pandas          Loads a data frame. It must be the Pandas data frame. Parameters\n",
      "predict              Predicts if any values would need to change their state. Parameters ----\n",
      "read_csv             Imports data from a CSV file. It uses the same optional parameters as read_csv fr\n",
      "None\n"
     ]
    }
   ],
   "source": [
    "actionRDiscovery = ActionRulesDiscovery()\n",
    "\n",
    "def get_methods(object, spacing=20): \n",
    "  methodList = [] \n",
    "  for method_name in dir(object): \n",
    "    try: \n",
    "        if callable(getattr(object, method_name)): \n",
    "            methodList.append(str(method_name)) \n",
    "    except: \n",
    "        methodList.append(str(method_name)) \n",
    "  processFunc = (lambda s: ' '.join(s.split())) or (lambda s: s) \n",
    "  for method in methodList: \n",
    "    try: \n",
    "        print(str(method.ljust(spacing)) + ' ' + \n",
    "              processFunc(str(getattr(object, method).__doc__)[0:90])) \n",
    "    except: \n",
    "        print(method.ljust(spacing) + ' ' + ' getattr() failed') \n",
    "\n",
    "\n",
    "object_methods = get_methods(actionRDiscovery) \n",
    "\n",
    "print(object_methods)"
   ]
  },
  {
   "cell_type": "code",
   "execution_count": 3,
   "metadata": {},
   "outputs": [],
   "source": [
    "def runDiscovery(conf, supp):\n",
    "    actionRDiscovery = ActionRulesDiscovery()\n",
    "    actionRDiscovery.read_csv(\"data/telco.csv\", sep=\";\")\n",
    "    actionRDiscovery.fit(stable_attributes = [\"gender\", \"SeniorCitizen\", \"Partner\"],\n",
    "        flexible_attributes = [\"PhoneService\",\n",
    "        \"InternetService\",\n",
    "        \"OnlineSecurity\",\n",
    "        \"DeviceProtection\",\n",
    "        \"TechSupport\",\n",
    "        \"StreamingTV\",\n",
    "        ],\n",
    "        consequent = \"Churn\",\n",
    "        conf=conf,\n",
    "        supp=supp,\n",
    "        desired_classes = [\"No\"])\n",
    "    print(\"Rules:\" + str(len(actionRDiscovery.get_action_rules_representation())))\n"
   ]
  },
  {
   "cell_type": "markdown",
   "metadata": {},
   "source": [
    "The discovery runs three times for each combination of parameters. The median duration is chosen. It prints the number of found rules for each step."
   ]
  },
  {
   "cell_type": "code",
   "execution_count": 4,
   "metadata": {},
   "outputs": [
    {
     "name": "stdout",
     "output_type": "stream",
     "text": [
      "Rules:591\n",
      "Rules:591\n",
      "Rules:591\n",
      "Rules:346\n",
      "Rules:346\n",
      "Rules:346\n",
      "Rules:205\n",
      "Rules:205\n",
      "Rules:205\n",
      "Rules:127\n",
      "Rules:127\n",
      "Rules:127\n",
      "Rules:61\n",
      "Rules:61\n",
      "Rules:61\n",
      "Rules:26\n",
      "Rules:26\n",
      "Rules:26\n",
      "Rules:15\n",
      "Rules:15\n",
      "Rules:15\n",
      "Rules:8\n",
      "Rules:8\n",
      "Rules:8\n",
      "Rules:0\n",
      "Rules:0\n",
      "Rules:0\n",
      "Rules:0\n",
      "Rules:0\n",
      "Rules:0\n",
      "Rules:0\n",
      "Rules:0\n",
      "Rules:0\n",
      "Rules:0\n",
      "Rules:0\n",
      "Rules:0\n",
      "Rules:0\n",
      "Rules:0\n",
      "Rules:0\n",
      "Rules:0\n",
      "Rules:0\n",
      "Rules:0\n",
      "Rules:0\n",
      "Rules:0\n",
      "Rules:0\n",
      "Rules:0\n",
      "Rules:0\n",
      "Rules:0\n"
     ]
    }
   ],
   "source": [
    "import time\n",
    "import statistics\n",
    "confs = [50, 60, 70, 80]\n",
    "supps = [1, 2, 3, 4]\n",
    "all_times = {}\n",
    "\n",
    "for conf in confs:\n",
    "    for supp in supps:\n",
    "        times = []\n",
    "        for index in range(3):\n",
    "            start = time.time()\n",
    "            runDiscovery(conf, supp)\n",
    "            end = time.time()\n",
    "            times.append(end - start)\n",
    "        all_times[(conf, supp)] = statistics.median(times)    "
   ]
  },
  {
   "cell_type": "code",
   "execution_count": 5,
   "metadata": {},
   "outputs": [
    {
     "name": "stdout",
     "output_type": "stream",
     "text": [
      "{(50, 1): 73.39896726608276, (50, 2): 40.40894556045532, (50, 3): 22.06400203704834, (50, 4): 14.502232551574707, (60, 1): 27.559410095214844, (60, 2): 13.71234393119812, (60, 3): 9.005950689315796, (60, 4): 6.8566694259643555, (70, 1): 12.742898225784302, (70, 2): 7.843022346496582, (70, 3): 5.982001543045044, (70, 4): 4.803190231323242, (80, 1): 9.271209001541138, (80, 2): 6.117645978927612, (80, 3): 4.666545152664185, (80, 4): 4.030252695083618}\n"
     ]
    }
   ],
   "source": [
    "print(all_times)"
   ]
  },
  {
   "cell_type": "markdown",
   "metadata": {},
   "source": [
    "Print the durations."
   ]
  },
  {
   "cell_type": "code",
   "execution_count": 27,
   "metadata": {},
   "outputs": [
    {
     "name": "stdout",
     "output_type": "stream",
     "text": [
      "{(50, 1): 78.70738863945007, (50, 2): 39.994412660598755, (50, 3): 23.97975182533264, (50, 4): 15.715688943862915, (60, 1): 29.967180967330933, (60, 2): 15.059975147247314, (60, 3): 9.515780210494995, (60, 4): 7.155165195465088, (70, 1): 13.74841856956482, (70, 2): 9.423038005828857, (70, 3): 6.784397840499878, (70, 4): 5.630708694458008, (80, 1): 10.187113285064697, (80, 2): 7.461020469665527, (80, 3): 5.021671295166016, (80, 4): 4.445628881454468}\n"
     ]
    }
   ],
   "source": [
    "print(all_times)"
   ]
  },
  {
   "cell_type": "code",
   "execution_count": 4,
   "metadata": {},
   "outputs": [
    {
     "name": "stdout",
     "output_type": "stream",
     "text": [
      "{(50, 1): 82.06649231910706, (50, 2): 40.796897649765015, (50, 3): 23.80831551551819, (50, 4): 15.800721406936646, (60, 1): 29.558969020843506, (60, 2): 14.368533611297607, (60, 3): 9.3180673122406, (60, 4): 7.310449838638306, (70, 1): 13.847926616668701, (70, 2): 8.476319789886475, (70, 3): 6.155555725097656, (70, 4): 5.028544902801514, (80, 1): 9.836679935455322, (80, 2): 6.57345986366272, (80, 3): 5.043531894683838, (80, 4): 4.382246971130371}\n"
     ]
    }
   ],
   "source": [
    "print(all_times)"
   ]
  }
 ],
 "metadata": {
  "kernelspec": {
   "display_name": "Python 3",
   "language": "python",
   "name": "python3"
  },
  "language_info": {
   "codemirror_mode": {
    "name": "ipython",
    "version": 3
   },
   "file_extension": ".py",
   "mimetype": "text/x-python",
   "name": "python",
   "nbconvert_exporter": "python",
   "pygments_lexer": "ipython3",
   "version": "3.7.1"
  }
 },
 "nbformat": 4,
 "nbformat_minor": 2
}
