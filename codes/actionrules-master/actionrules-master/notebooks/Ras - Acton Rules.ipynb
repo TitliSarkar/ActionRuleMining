{
 "cells": [
  {
   "cell_type": "markdown",
   "metadata": {},
   "source": [
    "# Ras - Action Rules Discovery\n",
    "\n",
    "Action rules provide the key to making the right actions that improve the\n",
    "system to more objects have the desired target (reclassify them).\n",
    "\n",
    "Based on the example in (Ras, Zbigniew W and Wyrzykowska, ARAS: Action rules discovery based on agglomerative strategy, 2007),\n",
    "the uncertainty action rules can be tested."
   ]
  },
  {
   "cell_type": "code",
   "execution_count": 1,
   "metadata": {},
   "outputs": [],
   "source": [
    "from actionrules.actionRulesDiscovery import ActionRulesDiscovery\n",
    "import pandas as pd"
   ]
  },
  {
   "cell_type": "markdown",
   "metadata": {},
   "source": [
    "## Example data\n",
    "Two classification rules. Stable attributes are a, c, g. Flexible attributes are b, e, h. Target is d. Desired class is 2."
   ]
  },
  {
   "cell_type": "code",
   "execution_count": 2,
   "metadata": {},
   "outputs": [
    {
     "data": {
      "text/html": [
       "<div>\n",
       "<style scoped>\n",
       "    .dataframe tbody tr th:only-of-type {\n",
       "        vertical-align: middle;\n",
       "    }\n",
       "\n",
       "    .dataframe tbody tr th {\n",
       "        vertical-align: top;\n",
       "    }\n",
       "\n",
       "    .dataframe thead th {\n",
       "        text-align: right;\n",
       "    }\n",
       "</style>\n",
       "<table border=\"1\" class=\"dataframe\">\n",
       "  <thead>\n",
       "    <tr style=\"text-align: right;\">\n",
       "      <th></th>\n",
       "      <th>a</th>\n",
       "      <th>b</th>\n",
       "      <th>c</th>\n",
       "      <th>e</th>\n",
       "      <th>g</th>\n",
       "      <th>h</th>\n",
       "      <th>d</th>\n",
       "      <th>conf</th>\n",
       "      <th>supp</th>\n",
       "    </tr>\n",
       "  </thead>\n",
       "  <tbody>\n",
       "    <tr>\n",
       "      <td>0</td>\n",
       "      <td>1</td>\n",
       "      <td>1</td>\n",
       "      <td>1.0</td>\n",
       "      <td>1.0</td>\n",
       "      <td>NaN</td>\n",
       "      <td>NaN</td>\n",
       "      <td>1</td>\n",
       "      <td>0.9</td>\n",
       "      <td>0.4</td>\n",
       "    </tr>\n",
       "    <tr>\n",
       "      <td>1</td>\n",
       "      <td>1</td>\n",
       "      <td>2</td>\n",
       "      <td>NaN</td>\n",
       "      <td>NaN</td>\n",
       "      <td>2.0</td>\n",
       "      <td>2.0</td>\n",
       "      <td>2</td>\n",
       "      <td>0.9</td>\n",
       "      <td>0.4</td>\n",
       "    </tr>\n",
       "  </tbody>\n",
       "</table>\n",
       "</div>"
      ],
      "text/plain": [
       "   a  b    c    e    g    h  d  conf  supp\n",
       "0  1  1  1.0  1.0  NaN  NaN  1   0.9   0.4\n",
       "1  1  2  NaN  NaN  2.0  2.0  2   0.9   0.4"
      ]
     },
     "execution_count": 2,
     "metadata": {},
     "output_type": "execute_result"
    }
   ],
   "source": [
    "# initialize list of lists \n",
    "data = [[1, 1, 1, 1, None, None, 1, 0.9, 0.4], [1, 2, None, None, 2, 2, 2, 0.9, 0.4]] \n",
    "  \n",
    "# Create the pandas DataFrame \n",
    "df = pd.DataFrame(data, columns = ['a', 'b', 'c', 'e', 'g', 'h', 'd', 'conf', 'supp']) \n",
    "  \n",
    "# print dataframe. \n",
    "df "
   ]
  },
  {
   "cell_type": "markdown",
   "metadata": {},
   "source": [
    "# Instantiate model object, load classification rules and fit\n",
    "For uncertainty the variable is_nan must be set to True."
   ]
  },
  {
   "cell_type": "code",
   "execution_count": 3,
   "metadata": {},
   "outputs": [],
   "source": [
    "actionRulesDiscovery = ActionRulesDiscovery()\n",
    "actionRulesDiscovery.load_pandas(df)\n",
    "actionRulesDiscovery.fit_classification_rules(stable_attributes = [\"a\", \"c\", \"g\"], \n",
    "            flexible_attributes = [\"b\", \"e\", \"h\"], \n",
    "            consequent = \"d\", \n",
    "            conf_col= \"conf\", \n",
    "            supp_col= \"supp\", \n",
    "            desired_classes = [2],\n",
    "            is_reduction = True,\n",
    "            is_nan=True)"
   ]
  },
  {
   "cell_type": "code",
   "execution_count": 4,
   "metadata": {},
   "outputs": [
    {
     "name": "stdout",
     "output_type": "stream",
     "text": [
      "r = [(a: 1) ∧ (g: 2.0*) ∧ (b: 1 → 2)  ∧ (h: None → 2.0) ] ⇒ [d: 1 → 2] with support: None, confidence: None and uplift: None.\n",
      " \n"
     ]
    }
   ],
   "source": [
    "for rule in actionRulesDiscovery.get_action_rules_representation():\n",
    "    print(rule)\n",
    "    print(\" \")"
   ]
  },
  {
   "cell_type": "code",
   "execution_count": 5,
   "metadata": {},
   "outputs": [
    {
     "data": {
      "text/plain": [
       "[[[['a', ('1',)], ['g', ('2.0*',)]],\n",
       "  [['b', ('1', '2')], ['h', ('None', '2.0')]],\n",
       "  ['d', ['1', '2']]],\n",
       " [0.4, 0.4, None],\n",
       " [0.9, 0.9, None],\n",
       " None]"
      ]
     },
     "execution_count": 5,
     "metadata": {},
     "output_type": "execute_result"
    }
   ],
   "source": [
    "actionRulesDiscovery.get_action_rules()[0]"
   ]
  },
  {
   "cell_type": "markdown",
   "metadata": {},
   "source": [
    "## NOTES\n",
    "Ras's approach can extend the before and after part of an action rule. Because of it, the frequencies need to be recalculated. If the actionRulesDiscovery does not hold source transaction data, the frequencies cannot be calculated.\n",
    "\n",
    "support (of action rule) for Ras's approach: It considers just before part of an action rule. It can be interpreted as the number of instances that can be reclassified by applying an action rule."
   ]
  }
 ],
 "metadata": {
  "kernelspec": {
   "display_name": "Python 3",
   "language": "python",
   "name": "python3"
  },
  "language_info": {
   "codemirror_mode": {
    "name": "ipython",
    "version": 3
   },
   "file_extension": ".py",
   "mimetype": "text/x-python",
   "name": "python",
   "nbconvert_exporter": "python",
   "pygments_lexer": "ipython3",
   "version": "3.7.4"
  }
 },
 "nbformat": 4,
 "nbformat_minor": 2
}
